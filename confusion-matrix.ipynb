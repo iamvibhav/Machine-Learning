{
  "nbformat": 4,
  "nbformat_minor": 0,
  "metadata": {
    "colab": {
      "provenance": []
    },
    "kernelspec": {
      "name": "python3",
      "display_name": "Python 3"
    },
    "language_info": {
      "name": "python"
    }
  },
  "cells": [
    {
      "cell_type": "code",
      "execution_count": null,
      "metadata": {
        "id": "HirpgRqDGkf_"
      },
      "outputs": [],
      "source": [
        "import pandas as pd\n",
        "import numpy as np\n",
        "from sklearn.model_selection import train_test_split\n",
        "from sklearn.linear_model import LogisticRegression\n",
        "from sklearn.metrics import accuracy_score, confusion_matrix, classification_report\n",
        "import seaborn as sns\n",
        "import matplotlib.pyplot as plt\n"
      ]
    },
    {
      "cell_type": "code",
      "source": [
        "# Load the dataset\n",
        "\n",
        "from google.colab import files\n",
        "\n",
        "\n",
        "uploaded = files.upload()\n",
        "\n",
        "column_names = [f'feature_{i}' for i in range(57)] + ['label']  # 57 features and 1 target label\n",
        "df = pd.read_csv('/content/spambase.data', header=None, names=column_names)\n",
        "\n",
        "# Display basic information about the dataset\n",
        "print(df.head())\n",
        "print(df.info())\n",
        "print(df['label'].value_counts())  # Check the distribution of spam (1) and non-spam (0)\n"
      ],
      "metadata": {
        "colab": {
          "base_uri": "https://localhost:8080/",
          "height": 1000
        },
        "id": "8bvwsJYcHXrx",
        "outputId": "6ce1acf6-aa56-4fc2-de07-d764c40af8fd"
      },
      "execution_count": null,
      "outputs": [
        {
          "output_type": "display_data",
          "data": {
            "text/plain": [
              "<IPython.core.display.HTML object>"
            ],
            "text/html": [
              "\n",
              "     <input type=\"file\" id=\"files-5b512b7b-2e13-488c-ab16-5689db31795a\" name=\"files[]\" multiple disabled\n",
              "        style=\"border:none\" />\n",
              "     <output id=\"result-5b512b7b-2e13-488c-ab16-5689db31795a\">\n",
              "      Upload widget is only available when the cell has been executed in the\n",
              "      current browser session. Please rerun this cell to enable.\n",
              "      </output>\n",
              "      <script>// Copyright 2017 Google LLC\n",
              "//\n",
              "// Licensed under the Apache License, Version 2.0 (the \"License\");\n",
              "// you may not use this file except in compliance with the License.\n",
              "// You may obtain a copy of the License at\n",
              "//\n",
              "//      http://www.apache.org/licenses/LICENSE-2.0\n",
              "//\n",
              "// Unless required by applicable law or agreed to in writing, software\n",
              "// distributed under the License is distributed on an \"AS IS\" BASIS,\n",
              "// WITHOUT WARRANTIES OR CONDITIONS OF ANY KIND, either express or implied.\n",
              "// See the License for the specific language governing permissions and\n",
              "// limitations under the License.\n",
              "\n",
              "/**\n",
              " * @fileoverview Helpers for google.colab Python module.\n",
              " */\n",
              "(function(scope) {\n",
              "function span(text, styleAttributes = {}) {\n",
              "  const element = document.createElement('span');\n",
              "  element.textContent = text;\n",
              "  for (const key of Object.keys(styleAttributes)) {\n",
              "    element.style[key] = styleAttributes[key];\n",
              "  }\n",
              "  return element;\n",
              "}\n",
              "\n",
              "// Max number of bytes which will be uploaded at a time.\n",
              "const MAX_PAYLOAD_SIZE = 100 * 1024;\n",
              "\n",
              "function _uploadFiles(inputId, outputId) {\n",
              "  const steps = uploadFilesStep(inputId, outputId);\n",
              "  const outputElement = document.getElementById(outputId);\n",
              "  // Cache steps on the outputElement to make it available for the next call\n",
              "  // to uploadFilesContinue from Python.\n",
              "  outputElement.steps = steps;\n",
              "\n",
              "  return _uploadFilesContinue(outputId);\n",
              "}\n",
              "\n",
              "// This is roughly an async generator (not supported in the browser yet),\n",
              "// where there are multiple asynchronous steps and the Python side is going\n",
              "// to poll for completion of each step.\n",
              "// This uses a Promise to block the python side on completion of each step,\n",
              "// then passes the result of the previous step as the input to the next step.\n",
              "function _uploadFilesContinue(outputId) {\n",
              "  const outputElement = document.getElementById(outputId);\n",
              "  const steps = outputElement.steps;\n",
              "\n",
              "  const next = steps.next(outputElement.lastPromiseValue);\n",
              "  return Promise.resolve(next.value.promise).then((value) => {\n",
              "    // Cache the last promise value to make it available to the next\n",
              "    // step of the generator.\n",
              "    outputElement.lastPromiseValue = value;\n",
              "    return next.value.response;\n",
              "  });\n",
              "}\n",
              "\n",
              "/**\n",
              " * Generator function which is called between each async step of the upload\n",
              " * process.\n",
              " * @param {string} inputId Element ID of the input file picker element.\n",
              " * @param {string} outputId Element ID of the output display.\n",
              " * @return {!Iterable<!Object>} Iterable of next steps.\n",
              " */\n",
              "function* uploadFilesStep(inputId, outputId) {\n",
              "  const inputElement = document.getElementById(inputId);\n",
              "  inputElement.disabled = false;\n",
              "\n",
              "  const outputElement = document.getElementById(outputId);\n",
              "  outputElement.innerHTML = '';\n",
              "\n",
              "  const pickedPromise = new Promise((resolve) => {\n",
              "    inputElement.addEventListener('change', (e) => {\n",
              "      resolve(e.target.files);\n",
              "    });\n",
              "  });\n",
              "\n",
              "  const cancel = document.createElement('button');\n",
              "  inputElement.parentElement.appendChild(cancel);\n",
              "  cancel.textContent = 'Cancel upload';\n",
              "  const cancelPromise = new Promise((resolve) => {\n",
              "    cancel.onclick = () => {\n",
              "      resolve(null);\n",
              "    };\n",
              "  });\n",
              "\n",
              "  // Wait for the user to pick the files.\n",
              "  const files = yield {\n",
              "    promise: Promise.race([pickedPromise, cancelPromise]),\n",
              "    response: {\n",
              "      action: 'starting',\n",
              "    }\n",
              "  };\n",
              "\n",
              "  cancel.remove();\n",
              "\n",
              "  // Disable the input element since further picks are not allowed.\n",
              "  inputElement.disabled = true;\n",
              "\n",
              "  if (!files) {\n",
              "    return {\n",
              "      response: {\n",
              "        action: 'complete',\n",
              "      }\n",
              "    };\n",
              "  }\n",
              "\n",
              "  for (const file of files) {\n",
              "    const li = document.createElement('li');\n",
              "    li.append(span(file.name, {fontWeight: 'bold'}));\n",
              "    li.append(span(\n",
              "        `(${file.type || 'n/a'}) - ${file.size} bytes, ` +\n",
              "        `last modified: ${\n",
              "            file.lastModifiedDate ? file.lastModifiedDate.toLocaleDateString() :\n",
              "                                    'n/a'} - `));\n",
              "    const percent = span('0% done');\n",
              "    li.appendChild(percent);\n",
              "\n",
              "    outputElement.appendChild(li);\n",
              "\n",
              "    const fileDataPromise = new Promise((resolve) => {\n",
              "      const reader = new FileReader();\n",
              "      reader.onload = (e) => {\n",
              "        resolve(e.target.result);\n",
              "      };\n",
              "      reader.readAsArrayBuffer(file);\n",
              "    });\n",
              "    // Wait for the data to be ready.\n",
              "    let fileData = yield {\n",
              "      promise: fileDataPromise,\n",
              "      response: {\n",
              "        action: 'continue',\n",
              "      }\n",
              "    };\n",
              "\n",
              "    // Use a chunked sending to avoid message size limits. See b/62115660.\n",
              "    let position = 0;\n",
              "    do {\n",
              "      const length = Math.min(fileData.byteLength - position, MAX_PAYLOAD_SIZE);\n",
              "      const chunk = new Uint8Array(fileData, position, length);\n",
              "      position += length;\n",
              "\n",
              "      const base64 = btoa(String.fromCharCode.apply(null, chunk));\n",
              "      yield {\n",
              "        response: {\n",
              "          action: 'append',\n",
              "          file: file.name,\n",
              "          data: base64,\n",
              "        },\n",
              "      };\n",
              "\n",
              "      let percentDone = fileData.byteLength === 0 ?\n",
              "          100 :\n",
              "          Math.round((position / fileData.byteLength) * 100);\n",
              "      percent.textContent = `${percentDone}% done`;\n",
              "\n",
              "    } while (position < fileData.byteLength);\n",
              "  }\n",
              "\n",
              "  // All done.\n",
              "  yield {\n",
              "    response: {\n",
              "      action: 'complete',\n",
              "    }\n",
              "  };\n",
              "}\n",
              "\n",
              "scope.google = scope.google || {};\n",
              "scope.google.colab = scope.google.colab || {};\n",
              "scope.google.colab._files = {\n",
              "  _uploadFiles,\n",
              "  _uploadFilesContinue,\n",
              "};\n",
              "})(self);\n",
              "</script> "
            ]
          },
          "metadata": {}
        },
        {
          "output_type": "stream",
          "name": "stdout",
          "text": [
            "Saving spambase.data to spambase (2).data\n",
            "   feature_0  feature_1  feature_2  feature_3  feature_4  feature_5  \\\n",
            "0       0.00       0.64       0.64        0.0       0.32       0.00   \n",
            "1       0.21       0.28       0.50        0.0       0.14       0.28   \n",
            "2       0.06       0.00       0.71        0.0       1.23       0.19   \n",
            "3       0.00       0.00       0.00        0.0       0.63       0.00   \n",
            "4       0.00       0.00       0.00        0.0       0.63       0.00   \n",
            "\n",
            "   feature_6  feature_7  feature_8  feature_9  ...  feature_48  feature_49  \\\n",
            "0       0.00       0.00       0.00       0.00  ...        0.00       0.000   \n",
            "1       0.21       0.07       0.00       0.94  ...        0.00       0.132   \n",
            "2       0.19       0.12       0.64       0.25  ...        0.01       0.143   \n",
            "3       0.31       0.63       0.31       0.63  ...        0.00       0.137   \n",
            "4       0.31       0.63       0.31       0.63  ...        0.00       0.135   \n",
            "\n",
            "   feature_50  feature_51  feature_52  feature_53  feature_54  feature_55  \\\n",
            "0         0.0       0.778       0.000       0.000       3.756          61   \n",
            "1         0.0       0.372       0.180       0.048       5.114         101   \n",
            "2         0.0       0.276       0.184       0.010       9.821         485   \n",
            "3         0.0       0.137       0.000       0.000       3.537          40   \n",
            "4         0.0       0.135       0.000       0.000       3.537          40   \n",
            "\n",
            "   feature_56  label  \n",
            "0         278      1  \n",
            "1        1028      1  \n",
            "2        2259      1  \n",
            "3         191      1  \n",
            "4         191      1  \n",
            "\n",
            "[5 rows x 58 columns]\n",
            "<class 'pandas.core.frame.DataFrame'>\n",
            "RangeIndex: 4601 entries, 0 to 4600\n",
            "Data columns (total 58 columns):\n",
            " #   Column      Non-Null Count  Dtype  \n",
            "---  ------      --------------  -----  \n",
            " 0   feature_0   4601 non-null   float64\n",
            " 1   feature_1   4601 non-null   float64\n",
            " 2   feature_2   4601 non-null   float64\n",
            " 3   feature_3   4601 non-null   float64\n",
            " 4   feature_4   4601 non-null   float64\n",
            " 5   feature_5   4601 non-null   float64\n",
            " 6   feature_6   4601 non-null   float64\n",
            " 7   feature_7   4601 non-null   float64\n",
            " 8   feature_8   4601 non-null   float64\n",
            " 9   feature_9   4601 non-null   float64\n",
            " 10  feature_10  4601 non-null   float64\n",
            " 11  feature_11  4601 non-null   float64\n",
            " 12  feature_12  4601 non-null   float64\n",
            " 13  feature_13  4601 non-null   float64\n",
            " 14  feature_14  4601 non-null   float64\n",
            " 15  feature_15  4601 non-null   float64\n",
            " 16  feature_16  4601 non-null   float64\n",
            " 17  feature_17  4601 non-null   float64\n",
            " 18  feature_18  4601 non-null   float64\n",
            " 19  feature_19  4601 non-null   float64\n",
            " 20  feature_20  4601 non-null   float64\n",
            " 21  feature_21  4601 non-null   float64\n",
            " 22  feature_22  4601 non-null   float64\n",
            " 23  feature_23  4601 non-null   float64\n",
            " 24  feature_24  4601 non-null   float64\n",
            " 25  feature_25  4601 non-null   float64\n",
            " 26  feature_26  4601 non-null   float64\n",
            " 27  feature_27  4601 non-null   float64\n",
            " 28  feature_28  4601 non-null   float64\n",
            " 29  feature_29  4601 non-null   float64\n",
            " 30  feature_30  4601 non-null   float64\n",
            " 31  feature_31  4601 non-null   float64\n",
            " 32  feature_32  4601 non-null   float64\n",
            " 33  feature_33  4601 non-null   float64\n",
            " 34  feature_34  4601 non-null   float64\n",
            " 35  feature_35  4601 non-null   float64\n",
            " 36  feature_36  4601 non-null   float64\n",
            " 37  feature_37  4601 non-null   float64\n",
            " 38  feature_38  4601 non-null   float64\n",
            " 39  feature_39  4601 non-null   float64\n",
            " 40  feature_40  4601 non-null   float64\n",
            " 41  feature_41  4601 non-null   float64\n",
            " 42  feature_42  4601 non-null   float64\n",
            " 43  feature_43  4601 non-null   float64\n",
            " 44  feature_44  4601 non-null   float64\n",
            " 45  feature_45  4601 non-null   float64\n",
            " 46  feature_46  4601 non-null   float64\n",
            " 47  feature_47  4601 non-null   float64\n",
            " 48  feature_48  4601 non-null   float64\n",
            " 49  feature_49  4601 non-null   float64\n",
            " 50  feature_50  4601 non-null   float64\n",
            " 51  feature_51  4601 non-null   float64\n",
            " 52  feature_52  4601 non-null   float64\n",
            " 53  feature_53  4601 non-null   float64\n",
            " 54  feature_54  4601 non-null   float64\n",
            " 55  feature_55  4601 non-null   int64  \n",
            " 56  feature_56  4601 non-null   int64  \n",
            " 57  label       4601 non-null   int64  \n",
            "dtypes: float64(55), int64(3)\n",
            "memory usage: 2.0 MB\n",
            "None\n",
            "label\n",
            "0    2788\n",
            "1    1813\n",
            "Name: count, dtype: int64\n"
          ]
        }
      ]
    },
    {
      "cell_type": "code",
      "source": [
        "X = df.drop(columns=['label'])\n",
        "y = df['label']\n",
        "\n",
        "print(X.isnull().sum().sum(), \"missing values in the dataset.\")\n"
      ],
      "metadata": {
        "colab": {
          "base_uri": "https://localhost:8080/"
        },
        "id": "mWPxIQGIHebs",
        "outputId": "a271b683-7535-4784-857b-301ed804a96a"
      },
      "execution_count": null,
      "outputs": [
        {
          "output_type": "stream",
          "name": "stdout",
          "text": [
            "0 missing values in the dataset.\n"
          ]
        }
      ]
    },
    {
      "cell_type": "code",
      "source": [
        "X_train, X_test, y_train, y_test = train_test_split(X, y, test_size=0.2, random_state=42)\n",
        "\n",
        "print(\"Training set size:\", X_train.shape)\n",
        "print(\"Testing set size:\", X_test.shape)\n"
      ],
      "metadata": {
        "colab": {
          "base_uri": "https://localhost:8080/"
        },
        "id": "RZQgs_FjHgRJ",
        "outputId": "f497611b-3a6e-4a6b-95d0-4d5d5190009b"
      },
      "execution_count": null,
      "outputs": [
        {
          "output_type": "stream",
          "name": "stdout",
          "text": [
            "Training set size: (3680, 57)\n",
            "Testing set size: (921, 57)\n"
          ]
        }
      ]
    },
    {
      "cell_type": "code",
      "source": [
        "model = LogisticRegression(max_iter=1000, random_state=42)\n",
        "model.fit(X_train, y_train)\n",
        "\n",
        "print(\"Model Coefficients:\", model.coef_)\n",
        "print(\"Intercept:\", model.intercept_)\n"
      ],
      "metadata": {
        "colab": {
          "base_uri": "https://localhost:8080/"
        },
        "id": "3-dDOtyKHilx",
        "outputId": "b9089931-bdde-4c3f-bfb3-a4706a2fd13a"
      },
      "execution_count": null,
      "outputs": [
        {
          "output_type": "stream",
          "name": "stdout",
          "text": [
            "Model Coefficients: [[-2.01413972e-01 -1.31673019e-01  1.59358385e-01  6.70852971e-01\n",
            "   6.42505131e-01  5.98181853e-01  2.24856940e+00  5.54441526e-01\n",
            "   6.55655455e-01  9.50666853e-02 -3.67369790e-01 -9.77005340e-02\n",
            "   2.93683679e-02  8.64853486e-02  1.24509404e+00  1.03071286e+00\n",
            "   8.65593146e-01  7.72591251e-02  9.41466081e-02  9.59730496e-01\n",
            "   2.48381131e-01  2.55542539e-01  2.50825600e+00  3.84728020e-01\n",
            "  -1.88051250e+00 -8.11899578e-01 -4.22189415e+00  3.22045946e-01\n",
            "  -1.23910450e+00 -7.03901722e-01 -2.83705000e-01 -6.69261143e-02\n",
            "  -1.28385659e+00 -3.38853034e-03 -8.33226753e-01  1.12669052e+00\n",
            "  -5.35002267e-02 -5.63291026e-01 -8.86956119e-01 -7.67278792e-02\n",
            "  -1.04398420e+00 -1.66504018e+00 -7.53302638e-01 -1.89446253e+00\n",
            "  -6.81178425e-01 -1.35269584e+00 -4.49613340e-01 -1.46480539e+00\n",
            "  -1.07969253e+00 -2.34999338e-01 -2.65213006e-01  2.42466371e-01\n",
            "   3.39733874e+00  9.61112762e-01 -1.14800489e-02  6.88393306e-03\n",
            "   8.75907402e-04]]\n",
            "Intercept: [-1.51837801]\n"
          ]
        },
        {
          "output_type": "stream",
          "name": "stderr",
          "text": [
            "/usr/local/lib/python3.10/dist-packages/sklearn/linear_model/_logistic.py:465: ConvergenceWarning: lbfgs failed to converge (status=1):\n",
            "STOP: TOTAL NO. of ITERATIONS REACHED LIMIT.\n",
            "\n",
            "Increase the number of iterations (max_iter) or scale the data as shown in:\n",
            "    https://scikit-learn.org/stable/modules/preprocessing.html\n",
            "Please also refer to the documentation for alternative solver options:\n",
            "    https://scikit-learn.org/stable/modules/linear_model.html#logistic-regression\n",
            "  n_iter_i = _check_optimize_result(\n"
          ]
        }
      ]
    },
    {
      "cell_type": "code",
      "source": [
        "# Predict on the test set\n",
        "y_pred = model.predict(X_test)\n",
        "\n",
        "# Calculate accuracy\n",
        "accuracy = accuracy_score(y_test, y_pred)\n",
        "print(\"Accuracy:\", accuracy)\n"
      ],
      "metadata": {
        "colab": {
          "base_uri": "https://localhost:8080/"
        },
        "id": "JDjXBRqAHkPH",
        "outputId": "5322eda7-3304-4b6c-86f3-12ca829ac821"
      },
      "execution_count": null,
      "outputs": [
        {
          "output_type": "stream",
          "name": "stdout",
          "text": [
            "Accuracy: 0.9218241042345277\n"
          ]
        }
      ]
    },
    {
      "cell_type": "code",
      "source": [
        "# Confusion Matrix\n",
        "conf_matrix = confusion_matrix(y_test, y_pred)\n",
        "sns.heatmap(conf_matrix, annot=True, fmt='d', cmap='Blues', xticklabels=['Not Spam', 'Spam'], yticklabels=['Not Spam', 'Spam'])\n",
        "plt.xlabel('Predicted')\n",
        "plt.ylabel('Actual')\n",
        "plt.title('Confusion Matrix')\n",
        "plt.show()\n",
        "\n",
        "# Classification Report\n",
        "report = classification_report(y_test, y_pred, target_names=['Not Spam', 'Spam'])\n",
        "print(\"Classification Report:\\n\", report)\n"
      ],
      "metadata": {
        "colab": {
          "base_uri": "https://localhost:8080/",
          "height": 646
        },
        "id": "8qckHyg5HmcV",
        "outputId": "b5f65f5c-c6f9-4e75-9251-0b1d32c2acea"
      },
      "execution_count": null,
      "outputs": [
        {
          "output_type": "display_data",
          "data": {
            "text/plain": [
              "<Figure size 640x480 with 2 Axes>"
            ],
            "image/png": "[encoded data removed]"
          },
          "metadata": {}
        },
        {
          "output_type": "stream",
          "name": "stdout",
          "text": [
            "Classification Report:\n",
            "               precision    recall  f1-score   support\n",
            "\n",
            "    Not Spam       0.92      0.95      0.93       531\n",
            "        Spam       0.93      0.88      0.91       390\n",
            "\n",
            "    accuracy                           0.92       921\n",
            "   macro avg       0.92      0.92      0.92       921\n",
            "weighted avg       0.92      0.92      0.92       921\n",
            "\n"
          ]
        }
      ]
    }
  ]
}